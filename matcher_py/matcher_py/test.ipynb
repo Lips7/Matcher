{
 "cells": [
  {
   "cell_type": "code",
   "execution_count": 1,
   "metadata": {},
   "outputs": [],
   "source": [
    "import msgspec\n",
    "import numpy as np\n",
    "\n",
    "from matcher_py import Matcher, SimpleMatcher # type: ignore\n",
    "from extension_types import MatchTableType, SimpleMatchType, MatchTable, MatchTableDict, SimpleWord, SimpleWordlistDict"
   ]
  },
  {
   "cell_type": "code",
   "execution_count": 2,
   "metadata": {},
   "outputs": [],
   "source": [
    "msgpack_encoder = msgspec.msgpack.Encoder()"
   ]
  },
  {
   "cell_type": "code",
   "execution_count": null,
   "metadata": {},
   "outputs": [],
   "source": [
    "matcher = Matcher(\n",
    "    msgpack_encoder.encode(\n",
    "        {\n",
    "            \"test\": [\n",
    "                MatchTable(\n",
    "                    table_id=1,\n",
    "                    match_table_type=MatchTableType.Simple,\n",
    "                    wordlist=[\"蔔\", \"你好\"],\n",
    "                    exemption_wordlist=[],\n",
    "                    simple_match_type=SimpleMatchType.MatchFanjian | SimpleMatchType.MatchDeleteNormalize\n",
    "                )\n",
    "            ]\n",
    "        }\n",
    "    )\n",
    ")"
   ]
  },
  {
   "cell_type": "code",
   "execution_count": null,
   "metadata": {},
   "outputs": [],
   "source": [
    "matcher.is_match(r\"卜\")"
   ]
  },
  {
   "cell_type": "code",
   "execution_count": null,
   "metadata": {},
   "outputs": [],
   "source": [
    "matcher.word_match(r\"你，好\")"
   ]
  },
  {
   "cell_type": "code",
   "execution_count": null,
   "metadata": {},
   "outputs": [],
   "source": [
    "matcher.word_match_as_string(\"你好\")"
   ]
  },
  {
   "cell_type": "code",
   "execution_count": null,
   "metadata": {},
   "outputs": [],
   "source": [
    "matcher.batch_word_match_as_string([\"你好\", \"你好\", \"你真棒\"])"
   ]
  },
  {
   "cell_type": "code",
   "execution_count": null,
   "metadata": {},
   "outputs": [],
   "source": [
    "text_array = np.array([\"房东巴萨风景嘎哈快睡吧ndsac\"] * 10000, dtype=np.dtype(\"object\"))\n",
    "matcher.numpy_word_match_as_string(text_array)"
   ]
  },
  {
   "cell_type": "code",
   "execution_count": null,
   "metadata": {},
   "outputs": [],
   "source": [
    "text_array = np.array([\"房东巴萨风景嘎哈快睡吧ndsac\"] * 10000, dtype=np.dtype(\"object\"))\n",
    "matcher.numpy_word_match_as_string(text_array, inplace=True)\n",
    "text_array"
   ]
  },
  {
   "cell_type": "code",
   "execution_count": 3,
   "metadata": {},
   "outputs": [],
   "source": [
    "simple_matcher = SimpleMatcher(\n",
    "    msgpack_encoder.encode(\n",
    "        {\n",
    "            SimpleMatchType.MatchFanjian\n",
    "            | SimpleMatchType.MatchDeleteNormalize: [\n",
    "                {\"word\": \"无,法,无,天\", \"word_id\": 1},\n",
    "                {\"word\": \"xxx\", \"word_id\": 2},\n",
    "                {\"word\": \"你好\", \"word_id\": 3},\n",
    "                {\"word\": r\"It's /\\/\\y duty\", \"word_id\": 6},\n",
    "            ],\n",
    "            SimpleMatchType.MatchFanjian: [{\"word\": \"xxx,yyy\", \"word_id\": 4}],\n",
    "            SimpleMatchType.MatchNone: [{\"word\": \"xxxxx,xxxxyyyyxxxxx\", \"word_id\": 5}],\n",
    "        }\n",
    "    )\n",
    ")\n"
   ]
  },
  {
   "cell_type": "code",
   "execution_count": 4,
   "metadata": {},
   "outputs": [
    {
     "data": {
      "text/plain": [
       "True"
      ]
     },
     "execution_count": 4,
     "metadata": {},
     "output_type": "execute_result"
    }
   ],
   "source": [
    "simple_matcher.is_match(\"xxx\")"
   ]
  },
  {
   "cell_type": "code",
   "execution_count": null,
   "metadata": {},
   "outputs": [],
   "source": [
    "simple_matcher.simple_process(r\"It's /\\/\\y duty\")"
   ]
  },
  {
   "cell_type": "code",
   "execution_count": null,
   "metadata": {},
   "outputs": [],
   "source": [
    "simple_matcher.batch_simple_process([r\"It's /\\/\\y duty\", \"你好\", \"xxxxxxx\"])"
   ]
  },
  {
   "cell_type": "code",
   "execution_count": null,
   "metadata": {},
   "outputs": [],
   "source": [
    "text_array = np.array([\"房东巴萨风景嘎哈快睡吧ndsac\"] * 10000, dtype=np.dtype(\"object\"))\n",
    "simple_matcher.numpy_simple_process(text_array)"
   ]
  },
  {
   "cell_type": "code",
   "execution_count": null,
   "metadata": {},
   "outputs": [],
   "source": [
    "text_array = np.array([\"房东巴萨风景嘎哈快睡吧ndsac\"] * 10000, dtype=np.dtype(\"object\"))\n",
    "simple_matcher.numpy_simple_process(text_array, inplace=True)\n",
    "text_array\n"
   ]
  },
  {
   "cell_type": "code",
   "execution_count": null,
   "metadata": {},
   "outputs": [],
   "source": []
  }
 ],
 "metadata": {
  "kernelspec": {
   "display_name": "base",
   "language": "python",
   "name": "python3"
  },
  "language_info": {
   "codemirror_mode": {
    "name": "ipython",
    "version": 3
   },
   "file_extension": ".py",
   "mimetype": "text/x-python",
   "name": "python",
   "nbconvert_exporter": "python",
   "pygments_lexer": "ipython3",
   "version": "3.10.12"
  },
  "orig_nbformat": 4,
  "vscode": {
   "interpreter": {
    "hash": "5e9cfa47ded4bf1c15b9c47d2d9fc93500e5c7d396efdca9c1588cbada1dd702"
   }
  }
 },
 "nbformat": 4,
 "nbformat_minor": 2
}
