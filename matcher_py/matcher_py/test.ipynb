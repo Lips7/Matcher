{
 "cells": [
  {
   "cell_type": "code",
   "execution_count": null,
   "metadata": {},
   "outputs": [],
   "source": [
    "import msgspec\n",
    "import numpy as np\n",
    "\n",
    "from matcher_py import Matcher, SimpleMatcher # type: ignore\n",
    "from extension_types import MatchTableType, SimpleMatchType, MatchTable"
   ]
  },
  {
   "cell_type": "code",
   "execution_count": null,
   "metadata": {},
   "outputs": [],
   "source": [
    "msgpack_encoder = msgspec.msgpack.Encoder()"
   ]
  },
  {
   "cell_type": "code",
   "execution_count": null,
   "metadata": {},
   "outputs": [],
   "source": [
    "matcher = Matcher(\n",
    "    msgpack_encoder.encode(\n",
    "        {\n",
    "            \"test\": [\n",
    "                MatchTable(\n",
    "                    table_id=1,\n",
    "                    match_table_type=MatchTableType.Simple,\n",
    "                    simple_match_type=SimpleMatchType.MatchFanjian | SimpleMatchType.MatchDeleteNormalize,\n",
    "                    word_list=[\"蔔\", \"你好\"],\n",
    "                    exemption_simple_match_type=SimpleMatchType.MatchFanjian | SimpleMatchType.MatchDeleteNormalize,\n",
    "                    exemption_word_list=[],\n",
    "                )\n",
    "            ]\n",
    "        }\n",
    "    )\n",
    ")"
   ]
  },
  {
   "cell_type": "code",
   "execution_count": null,
   "metadata": {},
   "outputs": [],
   "source": [
    "matcher.is_match(r\"卜\")"
   ]
  },
  {
   "cell_type": "code",
   "execution_count": null,
   "metadata": {},
   "outputs": [],
   "source": [
    "matcher.word_match(r\"你，好\")"
   ]
  },
  {
   "cell_type": "code",
   "execution_count": null,
   "metadata": {},
   "outputs": [],
   "source": [
    "matcher.word_match_as_string(\"你好\")"
   ]
  },
  {
   "cell_type": "code",
   "execution_count": null,
   "metadata": {},
   "outputs": [],
   "source": [
    "matcher.batch_word_match_as_string([\"你好\", \"你好\", \"你真棒\"])"
   ]
  },
  {
   "cell_type": "code",
   "execution_count": null,
   "metadata": {},
   "outputs": [],
   "source": [
    "text_array = np.array([\"房东巴萨风景嘎哈快睡吧ndsac\"] * 10000, dtype=np.dtype(\"object\"))\n",
    "matcher.numpy_word_match_as_string(text_array)"
   ]
  },
  {
   "cell_type": "code",
   "execution_count": null,
   "metadata": {},
   "outputs": [],
   "source": [
    "text_array = np.array([\"房东巴萨风景嘎哈快睡吧ndsac\"] * 10000, dtype=np.dtype(\"object\"))\n",
    "matcher.numpy_word_match_as_string(text_array, inplace=True)\n",
    "text_array"
   ]
  },
  {
   "cell_type": "code",
   "execution_count": null,
   "metadata": {},
   "outputs": [],
   "source": [
    "simple_matcher = SimpleMatcher(\n",
    "    msgpack_encoder.encode(\n",
    "        {\n",
    "            SimpleMatchType.MatchFanjian | SimpleMatchType.MatchDeleteNormalize: {\n",
    "                1: \"无,法,无,天\",\n",
    "                2: \"xxx\",\n",
    "                3: \"你好\",\n",
    "                6: r\"It's /\\/\\y duty\",\n",
    "                4: \"xxx,yyy\",\n",
    "            },\n",
    "            SimpleMatchType.MatchFanjian: {\n",
    "                4: \"xxx,yyy\",\n",
    "            },\n",
    "            SimpleMatchType.MatchNone: {\n",
    "                5: \"xxxxx,xxxxyyyyxxxxx\",\n",
    "            },\n",
    "        }\n",
    "    )\n",
    ")"
   ]
  },
  {
   "cell_type": "code",
   "execution_count": null,
   "metadata": {},
   "outputs": [],
   "source": [
    "simple_matcher.is_match(\"xxx\")"
   ]
  },
  {
   "cell_type": "code",
   "execution_count": null,
   "metadata": {},
   "outputs": [],
   "source": [
    "simple_matcher.simple_process(r\"It's /\\/\\y duty\")"
   ]
  },
  {
   "cell_type": "code",
   "execution_count": null,
   "metadata": {},
   "outputs": [],
   "source": [
    "simple_matcher.batch_simple_process([r\"It's /\\/\\y duty\", \"你好\", \"xxxxxxx\"])"
   ]
  },
  {
   "cell_type": "code",
   "execution_count": null,
   "metadata": {},
   "outputs": [],
   "source": [
    "text_array = np.array(\n",
    "    [\n",
    "        \"Laborum eiusmod anim aliqua non veniam laboris officia dolor. Adipisicing sit est irure Lorem duis adipisicing exercitation. Cillum excepteur non anim ipsum eiusmod deserunt veniam. Nulla veniam sunt sint ad velit occaecat in deserunt nulla nisi excepteur. Cillum veniam Lorem aute eu. Nisi voluptate laboris quis sint pariatur ullamco minim pariatur officia non anim nisi nulla ipsum ad. Veniam pariatur ut occaecat ut veniam velit aliquip commodo culpa elit eu eiusmod.\"\n",
    "    ]\n",
    "    * 10000,\n",
    "    dtype=np.dtype(\"object\"),\n",
    ")\n",
    "simple_matcher.numpy_simple_process(text_array)"
   ]
  },
  {
   "cell_type": "code",
   "execution_count": null,
   "metadata": {},
   "outputs": [],
   "source": [
    "text_array = np.array(\n",
    "    [\n",
    "        \"Laborum eiusmod anim aliqua non veniam laboris officia dolor. Adipisicing sit est irure Lorem duis adipisicing exercitation. Cillum excepteur non anim ipsum eiusmod deserunt veniam. Nulla veniam sunt sint ad velit occaecat in deserunt nulla nisi excepteur. Cillum veniam Lorem aute eu. Nisi voluptate laboris quis sint pariatur ullamco minim pariatur officia non anim nisi nulla ipsum ad. Veniam pariatur ut occaecat ut veniam velit aliquip commodo culpa elit eu eiusmod.\"\n",
    "    ]\n",
    "    * 10000,\n",
    "    dtype=np.dtype(\"object\"),\n",
    ")\n",
    "simple_matcher.numpy_simple_process(text_array, inplace=True)\n",
    "text_array"
   ]
  }
 ],
 "metadata": {
  "kernelspec": {
   "display_name": "base",
   "language": "python",
   "name": "python3"
  },
  "language_info": {
   "codemirror_mode": {
    "name": "ipython",
    "version": 3
   },
   "file_extension": ".py",
   "mimetype": "text/x-python",
   "name": "python",
   "nbconvert_exporter": "python",
   "pygments_lexer": "ipython3",
   "version": "3.12.3"
  },
  "orig_nbformat": 4,
  "vscode": {
   "interpreter": {
    "hash": "5e9cfa47ded4bf1c15b9c47d2d9fc93500e5c7d396efdca9c1588cbada1dd702"
   }
  }
 },
 "nbformat": 4,
 "nbformat_minor": 2
}
