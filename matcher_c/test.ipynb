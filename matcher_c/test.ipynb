{
 "cells": [
  {
   "cell_type": "code",
   "execution_count": null,
   "metadata": {},
   "outputs": [],
   "source": [
    "import os\n",
    "\n",
    "import msgspec\n",
    "\n",
    "from cffi import FFI"
   ]
  },
  {
   "cell_type": "code",
   "execution_count": null,
   "metadata": {},
   "outputs": [],
   "source": [
    "absolute_path = os.path.dirname('')\n",
    "\n",
    "ffi = FFI()\n",
    "ffi.cdef(\n",
    "    open(os.path.join(absolute_path, \"./matcher_c.h\"), \"r\", encoding=\"utf-8\").read()\n",
    ")\n",
    "\n",
    "lib = ffi.dlopen(os.path.join(absolute_path, \"./matcher_c.so\"))"
   ]
  },
  {
   "cell_type": "code",
   "execution_count": null,
   "metadata": {},
   "outputs": [],
   "source": [
    "matcher = lib.init_matcher(\n",
    "    msgspec.msgpack.encode(\n",
    "        {\n",
    "            \"test\": [\n",
    "                {\n",
    "                    \"table_id\": 1,\n",
    "                    \"wordlist\": [\"你好\"],\n",
    "                    \"exemption_wordlist\": [],\n",
    "                    \"match_table_type\": \"simple\",\n",
    "                    \"simple_match_type\": \"x\",\n",
    "                }\n",
    "            ]\n",
    "        }\n",
    "    )\n",
    ")"
   ]
  },
  {
   "cell_type": "code",
   "execution_count": null,
   "metadata": {},
   "outputs": [],
   "source": [
    "lib.matcher_is_match(matcher, \"你好\".encode(\"utf-8\"))"
   ]
  },
  {
   "cell_type": "code",
   "execution_count": null,
   "metadata": {},
   "outputs": [],
   "source": [
    "res = lib.matcher_word_match(matcher, \"你好\".encode(\"utf-8\"))\n",
    "print(ffi.string(res).decode(\"utf-8\"))\n",
    "lib.drop_string(res)"
   ]
  },
  {
   "cell_type": "code",
   "execution_count": null,
   "metadata": {},
   "outputs": [],
   "source": [
    "lib.drop_matcher(matcher)"
   ]
  },
  {
   "cell_type": "code",
   "execution_count": null,
   "metadata": {},
   "outputs": [],
   "source": [
    "simple_matcher = lib.init_simple_matcher(\n",
    "    msgspec.msgpack.encode(({15: [{\"word_id\": 1, \"word\": \"你好\"}]}))\n",
    ")"
   ]
  },
  {
   "cell_type": "code",
   "execution_count": null,
   "metadata": {},
   "outputs": [],
   "source": [
    "lib.simple_matcher_is_match(simple_matcher, \"你好\".encode(\"utf-8\"))"
   ]
  },
  {
   "cell_type": "code",
   "execution_count": null,
   "metadata": {},
   "outputs": [],
   "source": [
    "res = lib.simple_matcher_process(simple_matcher, b\"\\xe4\\xbd\\xa0\\xe5\\xa5\\xbd\")\n",
    "print(ffi.string(res).decode(\"utf-8\"))\n",
    "lib.drop_string(res)"
   ]
  },
  {
   "cell_type": "code",
   "execution_count": null,
   "metadata": {},
   "outputs": [],
   "source": [
    "lib.drop_simple_matcher(simple_matcher)"
   ]
  }
 ],
 "metadata": {
  "kernelspec": {
   "display_name": "base",
   "language": "python",
   "name": "python3"
  },
  "language_info": {
   "codemirror_mode": {
    "name": "ipython",
    "version": 3
   },
   "file_extension": ".py",
   "mimetype": "text/x-python",
   "name": "python",
   "nbconvert_exporter": "python",
   "pygments_lexer": "ipython3",
   "version": "3.10.12"
  },
  "orig_nbformat": 4,
  "vscode": {
   "interpreter": {
    "hash": "5e9cfa47ded4bf1c15b9c47d2d9fc93500e5c7d396efdca9c1588cbada1dd702"
   }
  }
 },
 "nbformat": 4,
 "nbformat_minor": 2
}
